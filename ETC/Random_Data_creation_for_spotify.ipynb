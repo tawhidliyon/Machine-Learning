{
  "nbformat": 4,
  "nbformat_minor": 0,
  "metadata": {
    "colab": {
      "provenance": [],
      "authorship_tag": "ABX9TyP3MeTdNxjdDc58rW9qCqcP",
      "include_colab_link": true
    },
    "kernelspec": {
      "name": "python3",
      "display_name": "Python 3"
    },
    "language_info": {
      "name": "python"
    }
  },
  "cells": [
    {
      "cell_type": "markdown",
      "metadata": {
        "id": "view-in-github",
        "colab_type": "text"
      },
      "source": [
        "<a href=\"https://colab.research.google.com/github/tawhidliyon/Machine-Learning/blob/main/Random_Data_creation_for_spotify.ipynb\" target=\"_parent\"><img src=\"https://colab.research.google.com/assets/colab-badge.svg\" alt=\"Open In Colab\"/></a>"
      ]
    },
    {
      "cell_type": "code",
      "source": [
        "import pandas as pd\n",
        "import numpy as np\n",
        "from datetime import datetime, timedelta"
      ],
      "metadata": {
        "id": "CihtMlIXOW_t"
      },
      "execution_count": null,
      "outputs": []
    },
    {
      "cell_type": "code",
      "source": [
        "# Set random seed for reproducibility\n",
        "np.random.seed(42)\n",
        "\n",
        "# Parameters\n",
        "num_users = 1000  # Number of unique users\n",
        "num_songs = 500   # Number of unique songs\n",
        "num_records = 10000  # Total number of user-song interactions\n",
        "start_date = datetime(2023, 1, 1)  # Start date for timestamps\n",
        "end_date = datetime(2023, 12, 31)  # End date for timestamps"
      ],
      "metadata": {
        "id": "tRBx2hHHOYHE"
      },
      "execution_count": null,
      "outputs": []
    },
    {
      "cell_type": "code",
      "source": [
        "# Generate synthetic data\n",
        "user_ids = np.random.randint(1, num_users + 1, num_records)  # Random user IDs\n",
        "song_ids = np.random.randint(1, num_songs + 1, num_records)  # Random song IDs\n",
        "\n",
        "# Generate random timestamps within the date range\n",
        "timestamps = [\n",
        "    start_date + timedelta(\n",
        "        days=np.random.randint(0, (end_date - start_date).days),\n",
        "        hours=np.random.randint(0, 24),\n",
        "        minutes=np.random.randint(0, 60)\n",
        "    )\n",
        "    for _ in range(num_records)\n",
        "]\n",
        "\n",
        "# Simulate repeated listens (1 if repeated within a month, 0 otherwise)\n",
        "# Assume a 20% chance of repeated listens for simplicity\n",
        "repeated_listen = np.random.choice([0, 1], size=num_records, p=[0.8, 0.2])"
      ],
      "metadata": {
        "id": "qc_7xWnEOcmM"
      },
      "execution_count": null,
      "outputs": []
    },
    {
      "cell_type": "code",
      "source": [
        "# Create DataFrame\n",
        "data = pd.DataFrame({\n",
        "    'user_id': user_ids,\n",
        "    'song_id': song_ids,\n",
        "    'timestamp': timestamps,\n",
        "    'repeated_listen': repeated_listen\n",
        "})\n",
        "\n",
        "# Display the first few rows of the dataset\n",
        "print(data.head())"
      ],
      "metadata": {
        "colab": {
          "base_uri": "https://localhost:8080/"
        },
        "id": "0l1FAKq4Oe10",
        "outputId": "30bfcf16-7f4b-4217-8f6f-c70dfcb49b8d"
      },
      "execution_count": null,
      "outputs": [
        {
          "output_type": "stream",
          "name": "stdout",
          "text": [
            "   user_id  song_id           timestamp  repeated_listen\n",
            "0      103      442 2023-06-29 20:36:00                0\n",
            "1      436      279 2023-03-13 14:58:00                0\n",
            "2      861      251 2023-08-15 05:59:00                0\n",
            "3      271      310 2023-10-28 11:18:00                1\n",
            "4      107      208 2023-09-10 17:55:00                0\n"
          ]
        }
      ]
    },
    {
      "cell_type": "code",
      "source": [
        "# Save to CSV (optional)\n",
        "data.to_csv('spotify_synthetic_data.csv', index=False)"
      ],
      "metadata": {
        "id": "om1x6hvWOhoj"
      },
      "execution_count": null,
      "outputs": []
    },
    {
      "cell_type": "code",
      "source": [
        "# Verify the dataset\n",
        "print(\"Dataset shape:\", data.shape)\n",
        "print(\"Unique users:\", data['user_id'].nunique())\n",
        "print(\"Unique songs:\", data['song_id'].nunique())\n",
        "print(\"Repeated listens distribution:\\n\", data['repeated_listen'].value_counts())"
      ],
      "metadata": {
        "colab": {
          "base_uri": "https://localhost:8080/"
        },
        "id": "wUcU9JgbOjET",
        "outputId": "75eb82f5-c1c7-4d23-c124-95d8feb5c022"
      },
      "execution_count": null,
      "outputs": [
        {
          "output_type": "stream",
          "name": "stdout",
          "text": [
            "Dataset shape: (10000, 4)\n",
            "Unique users: 1000\n",
            "Unique songs: 500\n",
            "Repeated listens distribution:\n",
            " repeated_listen\n",
            "0    8015\n",
            "1    1985\n",
            "Name: count, dtype: int64\n"
          ]
        }
      ]
    }
  ]
}