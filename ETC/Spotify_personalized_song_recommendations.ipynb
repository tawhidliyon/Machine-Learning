{
  "nbformat": 4,
  "nbformat_minor": 0,
  "metadata": {
    "colab": {
      "provenance": [],
      "authorship_tag": "ABX9TyNVjdraZhquhZ8zmOsC+5/F",
      "include_colab_link": true
    },
    "kernelspec": {
      "name": "python3",
      "display_name": "Python 3"
    },
    "language_info": {
      "name": "python"
    }
  },
  "cells": [
    {
      "cell_type": "markdown",
      "metadata": {
        "id": "view-in-github",
        "colab_type": "text"
      },
      "source": [
        "<a href=\"https://colab.research.google.com/github/tawhidliyon/Machine-Learning/blob/main/Spotify_personalized_song_recommendations.ipynb\" target=\"_parent\"><img src=\"https://colab.research.google.com/assets/colab-badge.svg\" alt=\"Open In Colab\"/></a>"
      ]
    },
    {
      "cell_type": "code",
      "execution_count": 1,
      "metadata": {
        "id": "mDYaVAGnOs3_"
      },
      "outputs": [],
      "source": [
        "import pandas as pd\n",
        "import numpy as np\n",
        "from sklearn.model_selection import train_test_split\n",
        "from sklearn.ensemble import RandomForestClassifier\n",
        "from sklearn.metrics import accuracy_score, classification_report, confusion_matrix\n",
        "from sklearn.preprocessing import StandardScaler"
      ]
    },
    {
      "cell_type": "code",
      "source": [
        "# Load the dataset\n",
        "data = pd.read_csv('spotify_synthetic_data.csv')\n",
        "\n",
        "# Display the first few rows\n",
        "print(data.head())"
      ],
      "metadata": {
        "colab": {
          "base_uri": "https://localhost:8080/"
        },
        "id": "DbH4sJhUO7tk",
        "outputId": "13719e3f-5d91-4f60-cdcd-959994fd88df"
      },
      "execution_count": 2,
      "outputs": [
        {
          "output_type": "stream",
          "name": "stdout",
          "text": [
            "   user_id  song_id            timestamp  repeated_listen\n",
            "0      103      442  2023-06-29 20:36:00                0\n",
            "1      436      279  2023-03-13 14:58:00                0\n",
            "2      861      251  2023-08-15 05:59:00                0\n",
            "3      271      310  2023-10-28 11:18:00                1\n",
            "4      107      208  2023-09-10 17:55:00                0\n"
          ]
        }
      ]
    },
    {
      "cell_type": "code",
      "source": [
        "# Convert timestamp to datetime\n",
        "data['timestamp'] = pd.to_datetime(data['timestamp'])\n",
        "\n",
        "# Feature engineering: Extract features from timestamp\n",
        "data['day_of_week'] = data['timestamp'].dt.dayofweek\n",
        "data['hour_of_day'] = data['timestamp'].dt.hour\n",
        "data['month'] = data['timestamp'].dt.month\n",
        "\n",
        "# Drop the original timestamp column\n",
        "data = data.drop(columns=['timestamp'])\n",
        "\n",
        "# Encode categorical variables (if any)\n",
        "data = pd.get_dummies(data, columns=['user_id', 'song_id'], drop_first=True)\n",
        "\n",
        "# Display the updated dataset\n",
        "print(data.head())"
      ],
      "metadata": {
        "colab": {
          "base_uri": "https://localhost:8080/"
        },
        "id": "aBG-pQ4eO-z7",
        "outputId": "dced43b6-93f7-41d5-e749-a0cb602579c4"
      },
      "execution_count": 3,
      "outputs": [
        {
          "output_type": "stream",
          "name": "stdout",
          "text": [
            "   repeated_listen  day_of_week  hour_of_day  month  user_id_2  user_id_3  \\\n",
            "0                0            3           20      6      False      False   \n",
            "1                0            0           14      3      False      False   \n",
            "2                0            1            5      8      False      False   \n",
            "3                1            5           11     10      False      False   \n",
            "4                0            6           17      9      False      False   \n",
            "\n",
            "   user_id_4  user_id_5  user_id_6  user_id_7  ...  song_id_491  song_id_492  \\\n",
            "0      False      False      False      False  ...        False        False   \n",
            "1      False      False      False      False  ...        False        False   \n",
            "2      False      False      False      False  ...        False        False   \n",
            "3      False      False      False      False  ...        False        False   \n",
            "4      False      False      False      False  ...        False        False   \n",
            "\n",
            "   song_id_493  song_id_494  song_id_495  song_id_496  song_id_497  \\\n",
            "0        False        False        False        False        False   \n",
            "1        False        False        False        False        False   \n",
            "2        False        False        False        False        False   \n",
            "3        False        False        False        False        False   \n",
            "4        False        False        False        False        False   \n",
            "\n",
            "   song_id_498  song_id_499  song_id_500  \n",
            "0        False        False        False  \n",
            "1        False        False        False  \n",
            "2        False        False        False  \n",
            "3        False        False        False  \n",
            "4        False        False        False  \n",
            "\n",
            "[5 rows x 1502 columns]\n"
          ]
        }
      ]
    },
    {
      "cell_type": "code",
      "source": [
        "# Separate features and target variable\n",
        "X = data.drop(columns=['repeated_listen'])\n",
        "y = data['repeated_listen']\n",
        "\n",
        "# Display shapes\n",
        "print(\"Features shape:\", X.shape)\n",
        "print(\"Target shape:\", y.shape)"
      ],
      "metadata": {
        "colab": {
          "base_uri": "https://localhost:8080/"
        },
        "id": "53vlBQJoPB1z",
        "outputId": "d1868e7f-20e7-4e86-bba6-db3a2c79d17d"
      },
      "execution_count": 4,
      "outputs": [
        {
          "output_type": "stream",
          "name": "stdout",
          "text": [
            "Features shape: (10000, 1501)\n",
            "Target shape: (10000,)\n"
          ]
        }
      ]
    },
    {
      "cell_type": "code",
      "source": [
        "# Split the data into training and testing sets\n",
        "X_train, X_test, y_train, y_test = train_test_split(X, y, test_size=0.2, random_state=42)\n",
        "\n",
        "# Display shapes\n",
        "print(\"Training data shape:\", X_train.shape, y_train.shape)\n",
        "print(\"Testing data shape:\", X_test.shape, y_test.shape)"
      ],
      "metadata": {
        "colab": {
          "base_uri": "https://localhost:8080/"
        },
        "id": "ZzkLdj5wPDbb",
        "outputId": "ca360a19-bc12-4618-85aa-e02d918acea5"
      },
      "execution_count": 5,
      "outputs": [
        {
          "output_type": "stream",
          "name": "stdout",
          "text": [
            "Training data shape: (8000, 1501) (8000,)\n",
            "Testing data shape: (2000, 1501) (2000,)\n"
          ]
        }
      ]
    },
    {
      "cell_type": "code",
      "source": [
        "# Standardize the features\n",
        "scaler = StandardScaler()\n",
        "X_train = scaler.fit_transform(X_train)\n",
        "X_test = scaler.transform(X_test)\n",
        "\n",
        "# Display standardized features\n",
        "print(\"Standardized training data (first 5 rows):\\n\", X_train[:5])"
      ],
      "metadata": {
        "colab": {
          "base_uri": "https://localhost:8080/"
        },
        "id": "lLSwIu5MPIdT",
        "outputId": "65e04194-96db-4590-9a7c-05a18566bea5"
      },
      "execution_count": 6,
      "outputs": [
        {
          "output_type": "stream",
          "name": "stdout",
          "text": [
            "Standardized training data (first 5 rows):\n",
            " [[-0.01038465 -0.80243396  1.31199365 ... -0.04476615 -0.0316386\n",
            "  -0.0316386 ]\n",
            " [ 1.49101052 -1.52911177 -1.58615888 ... -0.04476615 -0.0316386\n",
            "  -0.0316386 ]\n",
            " [-0.01038465  0.36025052 -1.58615888 ... -0.04476615 -0.0316386\n",
            "  -0.0316386 ]\n",
            " [ 0.49008041 -0.36642728  1.6018089  ... -0.04476615 -0.0316386\n",
            "  -0.0316386 ]\n",
            " [-0.51084971  0.94159276 -1.29634362 ... -0.04476615 -0.0316386\n",
            "  -0.0316386 ]]\n"
          ]
        }
      ]
    },
    {
      "cell_type": "code",
      "source": [
        "# Initialize the model\n",
        "model = RandomForestClassifier(n_estimators=100, random_state=42)\n",
        "\n",
        "# Train the model\n",
        "model.fit(X_train, y_train)\n",
        "\n",
        "print(\"Model training complete!\")"
      ],
      "metadata": {
        "colab": {
          "base_uri": "https://localhost:8080/"
        },
        "id": "UDPK0fQGPKGe",
        "outputId": "1551343f-fa68-4c67-922b-423f5b030d0a"
      },
      "execution_count": 7,
      "outputs": [
        {
          "output_type": "stream",
          "name": "stdout",
          "text": [
            "Model training complete!\n"
          ]
        }
      ]
    },
    {
      "cell_type": "code",
      "source": [
        "# Make predictions\n",
        "y_pred = model.predict(X_test)\n",
        "\n",
        "# Evaluate the model\n",
        "print(\"Accuracy:\", accuracy_score(y_test, y_pred))\n",
        "print(\"Confusion Matrix:\\n\", confusion_matrix(y_test, y_pred))\n",
        "print(\"Classification Report:\\n\", classification_report(y_test, y_pred))"
      ],
      "metadata": {
        "colab": {
          "base_uri": "https://localhost:8080/"
        },
        "id": "Jx4TBmwGPL0D",
        "outputId": "559e4998-3169-403c-95e0-b4ae0b7ae457"
      },
      "execution_count": 8,
      "outputs": [
        {
          "output_type": "stream",
          "name": "stdout",
          "text": [
            "Accuracy: 0.794\n",
            "Confusion Matrix:\n",
            " [[1576   36]\n",
            " [ 376   12]]\n",
            "Classification Report:\n",
            "               precision    recall  f1-score   support\n",
            "\n",
            "           0       0.81      0.98      0.88      1612\n",
            "           1       0.25      0.03      0.06       388\n",
            "\n",
            "    accuracy                           0.79      2000\n",
            "   macro avg       0.53      0.50      0.47      2000\n",
            "weighted avg       0.70      0.79      0.72      2000\n",
            "\n"
          ]
        }
      ]
    }
  ]
}